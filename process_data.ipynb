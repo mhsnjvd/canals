{
 "cells": [
  {
   "cell_type": "code",
   "execution_count": 1,
   "metadata": {
    "collapsed": false,
    "deletable": true,
    "editable": true
   },
   "outputs": [
    {
     "name": "stdout",
     "output_type": "stream",
     "text": [
      "Using matplotlib backend: MacOSX\n",
      "Pandas version: 0.19.2\n",
      "Numpy version: 1.12.0\n"
     ]
    }
   ],
   "source": [
    "%matplotlib\n",
    "import matplotlib.pylab as plt\n",
    "import numpy as np\n",
    "import pandas as pd\n",
    "print('Pandas version: ' + pd.__version__)\n",
    "print('Numpy version: ' + np.__version__)"
   ]
  },
  {
   "cell_type": "code",
   "execution_count": 2,
   "metadata": {
    "collapsed": false,
    "deletable": true,
    "editable": true
   },
   "outputs": [],
   "source": [
    "df = pd.read_csv('hakra_simple.csv')\n",
    "df.index = pd.to_datetime(df['DateOfRecord'], infer_datetime_format=True)\n",
    "df = df.drop('DateOfRecord', 1)\n",
    "df.columns = ['name', 'discharge']"
   ]
  },
  {
   "cell_type": "code",
   "execution_count": 3,
   "metadata": {
    "collapsed": false,
    "deletable": true,
    "editable": true
   },
   "outputs": [],
   "source": [
    "design_discharge = {\n",
    "                'HR': 510, \n",
    "                'HL': 23.06, \n",
    "                '4R': 226, \n",
    "                '1L': 83.48, \n",
    "                'BS': 6, \n",
    "                '1R': 19, \n",
    "                '2R': 22, \n",
    "                '3R': 353, \n",
    "                '5R': 36.49,\n",
    "                '2L': 19.11,\n",
    "                '7R': 273, \n",
    "                '3L': 9.68, \n",
    "                '4L': 9.01, \n",
    "                '8R': 31, \n",
    "                'FC': 93, \n",
    "                '6R': 546, \n",
    "                '9R': 240\n",
    "}\n",
    "distributory_names = [key for key in design_discharge.keys()]"
   ]
  },
  {
   "cell_type": "code",
   "execution_count": 4,
   "metadata": {
    "collapsed": false,
    "deletable": true,
    "editable": true
   },
   "outputs": [],
   "source": [
    "priorities = {\n",
    "        'A': {'A1': ['HR', 'HL'], 'A2': ['4R', '1L']}, \n",
    "        'B': {'B1': ['BS', '1R', '2R', '3R'], 'B2': ['5R', '2L', '7R', '3L', '4L', '8R', 'FC']}, \n",
    "        'C': {'C1': ['6R'], 'C2': ['9R']}\n",
    "}\n",
    "\n"
   ]
  },
  {
   "cell_type": "code",
   "execution_count": 5,
   "metadata": {
    "collapsed": false,
    "deletable": true,
    "editable": true
   },
   "outputs": [
    {
     "data": {
      "text/plain": [
       "<matplotlib.text.Text at 0x1100d72b0>"
      ]
     },
     "execution_count": 5,
     "metadata": {},
     "output_type": "execute_result"
    }
   ],
   "source": [
    "sf = pd.read_csv('schedule.csv')\n",
    "# Khareef season start date\n",
    "start_date_str = '18-04-2014'\n",
    "# Khareef season end date\n",
    "end_date_str = '18-10-2014'\n",
    "sf['From'] = pd.to_datetime(sf['From'], infer_datetime_format=True)\n",
    "sf['To'] = pd.to_datetime(sf['To'], infer_datetime_format=True)\n",
    "sf = sf[(sf['From'] >= start_date_str) & (sf['To'] <= end_date_str)]\n",
    "df = df[start_date_str:end_date_str]\n",
    "# Example view of a tributory \n",
    "name = '3R'\n",
    "df[df['name'] == name]['discharge'].plot()\n",
    "plt.title(name)"
   ]
  },
  {
   "cell_type": "code",
   "execution_count": 6,
   "metadata": {
    "collapsed": false,
    "deletable": true,
    "editable": true
   },
   "outputs": [],
   "source": [
    "days = sorted(list(set(df.index.map(lambda d: d.strftime('%D')))));    "
   ]
  },
  {
   "cell_type": "code",
   "execution_count": 7,
   "metadata": {
    "collapsed": false,
    "deletable": true,
    "editable": true
   },
   "outputs": [],
   "source": [
    "# Number of rows = number of days\n",
    "# Number of columns = number of distributories\n",
    "violation_matrix = -10*np.ones((len(days), len(distributory_names)))"
   ]
  },
  {
   "cell_type": "code",
   "execution_count": 8,
   "metadata": {
    "collapsed": false,
    "deletable": true,
    "editable": true
   },
   "outputs": [],
   "source": [
    "discharge_threshold = .9;\n",
    "day_index = 0;\n",
    "for day in days:\n",
    "    daily_data = df[day]\n",
    "    day_dt = pd.to_datetime(day)\n",
    "    temp = sf[day_dt >= sf['From']]\n",
    "    daily_priority = temp[day_dt <= temp['To']]\n",
    "    name_list = priorities[daily_priority['Group 1'].values[0]]\n",
    "    temp = [name_list[k] for k in name_list.keys()]\n",
    "    prioritised_distributory = [val for sub_list in temp for val in sub_list]\n",
    "    for d in prioritised_distributory:\n",
    "        d_data = daily_data[daily_data['name'] == d]\n",
    "        if len(d_data) > 0:\n",
    "            incidents = (1.0*sum(d_data['discharge'] <= discharge_threshold * design_discharge[d]))/len(d_data) * 100.0\n",
    "            #print(incidents)\n",
    "            violation_matrix[day_index, distributory_names.index(d)] = incidents\n",
    "    day_index = day_index + 1;\n",
    "        \n",
    "    "
   ]
  },
  {
   "cell_type": "code",
   "execution_count": 9,
   "metadata": {
    "collapsed": false,
    "deletable": true,
    "editable": true
   },
   "outputs": [],
   "source": [
    "vdf = pd.DataFrame(data=violation_matrix, index=days, columns=distributory_names)"
   ]
  },
  {
   "cell_type": "code",
   "execution_count": 36,
   "metadata": {
    "collapsed": false,
    "deletable": true,
    "editable": true
   },
   "outputs": [],
   "source": [
    "n_figs = 5;\n",
    "n_rows = 2;\n",
    "n_cols = 2;\n",
    "fig_name_prefix = \"hakra_figure_\"\n",
    "for fig in range(0, n_figs):\n",
    "    this_fig = plt.figure(fig+1) # Want figure numbers starting from 1\n",
    "    for i in range(0, n_rows):\n",
    "        for j in range(0, n_cols):\n",
    "            idx = fig * n_rows * n_cols + n_cols*i+j\n",
    "            if idx >= len(distributory_names):                \n",
    "                j = n_cols\n",
    "                i = n_rows\n",
    "                break\n",
    "            name = distributory_names[idx]\n",
    "            plt.subplot(n_rows, n_cols, n_cols*i + j + 1)\n",
    "            plt.plot(vdf[name].values, 'b.--')\n",
    "            plt.title(name + ', disch:' + str(design_discharge[name]))\n",
    "            plt.tick_params(axis='x', which='both', bottom='off', top='off', labelbottom='off') \n",
    "            plt.ylim([-10, 100])\n",
    "            plt.grid('on')\n",
    "    this_fig.savefig( fig_name_prefix+ str(fig+1) +\".pdf\")\n",
    "\n",
    "    \n",
    "from PyPDF2 import PdfFileMerger\n",
    "from os import remove\n",
    "pdfs = [fig_name_prefix + str(i+1) + \".pdf\" for i in range(0, n_figs)]\n",
    "merger = PdfFileMerger()\n",
    "for pdf in pdfs:\n",
    "    merger.append(pdf)\n",
    "    remove(pdf)\n",
    "\n",
    "merger.write(\"hakra_graphs.pdf\")\n"
   ]
  },
  {
   "cell_type": "code",
   "execution_count": 43,
   "metadata": {
    "collapsed": false,
    "deletable": true,
    "editable": true
   },
   "outputs": [
    {
     "data": {
      "text/plain": [
       "[<matplotlib.lines.Line2D at 0x111409668>]"
      ]
     },
     "execution_count": 43,
     "metadata": {},
     "output_type": "execute_result"
    }
   ],
   "source": [
    "plt.plot(vdf['9R'].values, '.')"
   ]
  },
  {
   "cell_type": "code",
   "execution_count": 32,
   "metadata": {
    "collapsed": false,
    "deletable": true,
    "editable": true
   },
   "outputs": [
    {
     "data": {
      "text/plain": [
       "[<matplotlib.lines.Line2D at 0x10b1d9668>]"
      ]
     },
     "execution_count": 32,
     "metadata": {},
     "output_type": "execute_result"
    }
   ],
   "source": [
    "r_9 = df[df['name']=='9R']\n",
    "plt.plot(r_9['discharge'].values)"
   ]
  },
  {
   "cell_type": "code",
   "execution_count": 33,
   "metadata": {
    "collapsed": false,
    "deletable": true,
    "editable": true
   },
   "outputs": [
    {
     "data": {
      "text/plain": [
       "(<matplotlib.axes._subplots.AxesSubplot at 0x10c74d0b8>, None)"
      ]
     },
     "execution_count": 33,
     "metadata": {},
     "output_type": "execute_result"
    }
   ],
   "source": [
    "df['name'].value_counts().plot(kind='barh'), plt.grid(True)"
   ]
  },
  {
   "cell_type": "code",
   "execution_count": null,
   "metadata": {
    "collapsed": true,
    "deletable": true,
    "editable": true
   },
   "outputs": [],
   "source": []
  },
  {
   "cell_type": "code",
   "execution_count": null,
   "metadata": {
    "collapsed": true,
    "deletable": true,
    "editable": true
   },
   "outputs": [],
   "source": []
  }
 ],
 "metadata": {
  "kernelspec": {
   "display_name": "Python 3",
   "language": "python",
   "name": "python3"
  },
  "language_info": {
   "codemirror_mode": {
    "name": "ipython",
    "version": 3
   },
   "file_extension": ".py",
   "mimetype": "text/x-python",
   "name": "python",
   "nbconvert_exporter": "python",
   "pygments_lexer": "ipython3",
   "version": "3.5.1"
  }
 },
 "nbformat": 4,
 "nbformat_minor": 2
}
